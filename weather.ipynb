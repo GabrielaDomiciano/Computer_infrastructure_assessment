{
 "cells": [
  {
   "cell_type": "markdown",
   "metadata": {},
   "source": [
    "Create a notebook called weather.ipynb at the root of your repository.\n",
    " In this notebook, write a brief report explaining how you completed Tasks 1 to 7. \n",
    " Provide short descriptions of the commands used in each task and explain their role in completing the tasks."
   ]
  },
  {
   "cell_type": "markdown",
   "metadata": {},
   "source": [
    "# Wheather Analysis"
   ]
  },
  {
   "cell_type": "code",
   "execution_count": 1,
   "metadata": {},
   "outputs": [],
   "source": [
    "import pandas as pd"
   ]
  },
  {
   "cell_type": "markdown",
   "metadata": {},
   "source": [
    "## Collecting the Data"
   ]
  },
  {
   "cell_type": "markdown",
   "metadata": {},
   "source": [
    "The following code outputs the filename used to store the data file.\n",
    "```bash\n",
    "date +\"%Y%m%d_%H%M%S_athenry.json\n",
    "```\n",
    "\n",
    "The `%Y` is replaced by the four-digit year (e.g. 2024)|"
   ]
  },
  {
   "cell_type": "markdown",
   "metadata": {},
   "source": []
  },
  {
   "cell_type": "markdown",
   "metadata": {},
   "source": [
    "## Analysing the Data"
   ]
  },
  {
   "cell_type": "code",
   "execution_count": 3,
   "metadata": {},
   "outputs": [],
   "source": [
    "## read the Data\n",
    "df = pd.read_json('data/weather/20241119_170405_athenry.json')"
   ]
  },
  {
   "cell_type": "code",
   "execution_count": 5,
   "metadata": {},
   "outputs": [
    {
     "data": {
      "text/html": [
       "<div>\n",
       "<style scoped>\n",
       "    .dataframe tbody tr th:only-of-type {\n",
       "        vertical-align: middle;\n",
       "    }\n",
       "\n",
       "    .dataframe tbody tr th {\n",
       "        vertical-align: top;\n",
       "    }\n",
       "\n",
       "    .dataframe thead th {\n",
       "        text-align: right;\n",
       "    }\n",
       "</style>\n",
       "<table border=\"1\" class=\"dataframe\">\n",
       "  <thead>\n",
       "    <tr style=\"text-align: right;\">\n",
       "      <th></th>\n",
       "      <th>name</th>\n",
       "      <th>temperature</th>\n",
       "      <th>symbol</th>\n",
       "      <th>weatherDescription</th>\n",
       "      <th>text</th>\n",
       "      <th>windSpeed</th>\n",
       "      <th>windGust</th>\n",
       "      <th>cardinalWindDirection</th>\n",
       "      <th>windDirection</th>\n",
       "      <th>humidity</th>\n",
       "      <th>rainfall</th>\n",
       "      <th>pressure</th>\n",
       "      <th>dayName</th>\n",
       "      <th>date</th>\n",
       "      <th>reportTime</th>\n",
       "    </tr>\n",
       "  </thead>\n",
       "  <tbody>\n",
       "    <tr>\n",
       "      <th>0</th>\n",
       "      <td>Athenry</td>\n",
       "      <td>5</td>\n",
       "      <td>46n</td>\n",
       "      <td>Light rain</td>\n",
       "      <td>\"Moderate Drizzle \"</td>\n",
       "      <td>13</td>\n",
       "      <td>-</td>\n",
       "      <td>E</td>\n",
       "      <td>90</td>\n",
       "      <td>97</td>\n",
       "      <td>0.40</td>\n",
       "      <td>999</td>\n",
       "      <td>Tuesday</td>\n",
       "      <td>2024-11-19</td>\n",
       "      <td>00:00</td>\n",
       "    </tr>\n",
       "    <tr>\n",
       "      <th>1</th>\n",
       "      <td>Athenry</td>\n",
       "      <td>4</td>\n",
       "      <td>05n</td>\n",
       "      <td>Rain showers</td>\n",
       "      <td>\"Rain shower\"</td>\n",
       "      <td>19</td>\n",
       "      <td>-</td>\n",
       "      <td>E</td>\n",
       "      <td>90</td>\n",
       "      <td>96</td>\n",
       "      <td>0.50</td>\n",
       "      <td>999</td>\n",
       "      <td>Tuesday</td>\n",
       "      <td>2024-11-19</td>\n",
       "      <td>01:00</td>\n",
       "    </tr>\n",
       "    <tr>\n",
       "      <th>2</th>\n",
       "      <td>Athenry</td>\n",
       "      <td>4</td>\n",
       "      <td>46n</td>\n",
       "      <td>Light rain</td>\n",
       "      <td>\"Moderate Drizzle \"</td>\n",
       "      <td>15</td>\n",
       "      <td>-</td>\n",
       "      <td>E</td>\n",
       "      <td>90</td>\n",
       "      <td>97</td>\n",
       "      <td>0.50</td>\n",
       "      <td>999</td>\n",
       "      <td>Tuesday</td>\n",
       "      <td>2024-11-19</td>\n",
       "      <td>02:00</td>\n",
       "    </tr>\n",
       "    <tr>\n",
       "      <th>3</th>\n",
       "      <td>Athenry</td>\n",
       "      <td>3</td>\n",
       "      <td>46n</td>\n",
       "      <td>Light rain</td>\n",
       "      <td>\"Light rain \"</td>\n",
       "      <td>13</td>\n",
       "      <td>-</td>\n",
       "      <td>NE</td>\n",
       "      <td>45</td>\n",
       "      <td>96</td>\n",
       "      <td>1.00</td>\n",
       "      <td>1000</td>\n",
       "      <td>Tuesday</td>\n",
       "      <td>2024-11-19</td>\n",
       "      <td>03:00</td>\n",
       "    </tr>\n",
       "    <tr>\n",
       "      <th>4</th>\n",
       "      <td>Athenry</td>\n",
       "      <td>2</td>\n",
       "      <td></td>\n",
       "      <td>N/A</td>\n",
       "      <td></td>\n",
       "      <td>11</td>\n",
       "      <td>-</td>\n",
       "      <td>N</td>\n",
       "      <td>0</td>\n",
       "      <td>95</td>\n",
       "      <td>0.01</td>\n",
       "      <td>1000</td>\n",
       "      <td>Tuesday</td>\n",
       "      <td>2024-11-19</td>\n",
       "      <td>04:00</td>\n",
       "    </tr>\n",
       "  </tbody>\n",
       "</table>\n",
       "</div>"
      ],
      "text/plain": [
       "      name  temperature symbol weatherDescription                 text  \\\n",
       "0  Athenry            5    46n        Light rain   \"Moderate Drizzle \"   \n",
       "1  Athenry            4    05n       Rain showers        \"Rain shower\"   \n",
       "2  Athenry            4    46n        Light rain   \"Moderate Drizzle \"   \n",
       "3  Athenry            3    46n        Light rain         \"Light rain \"   \n",
       "4  Athenry            2                       N/A                        \n",
       "\n",
       "   windSpeed windGust cardinalWindDirection  windDirection  humidity  \\\n",
       "0         13        -                     E             90        97   \n",
       "1         19        -                     E             90        96   \n",
       "2         15        -                     E             90        97   \n",
       "3         13        -                    NE             45        96   \n",
       "4         11        -                     N              0        95   \n",
       "\n",
       "   rainfall  pressure  dayName       date reportTime  \n",
       "0      0.40       999  Tuesday 2024-11-19      00:00  \n",
       "1      0.50       999  Tuesday 2024-11-19      01:00  \n",
       "2      0.50       999  Tuesday 2024-11-19      02:00  \n",
       "3      1.00      1000  Tuesday 2024-11-19      03:00  \n",
       "4      0.01      1000  Tuesday 2024-11-19      04:00  "
      ]
     },
     "execution_count": 5,
     "metadata": {},
     "output_type": "execute_result"
    }
   ],
   "source": [
    "## Show\n",
    "df.head()"
   ]
  },
  {
   "cell_type": "markdown",
   "metadata": {},
   "source": [
    "Task 01 - Using the command line, create a directory (that is, a folder) named data at the root of your repository. Inside data, create two subdirectories: timestamps and weather\n",
    "\n",
    "\n",
    "- Using a terminal, first I checked the folder that I was using \"ls\", then I changed the directory using \"cd..\" to move to the parent folder. To create timestamps subdirectories and weather folders, I used \"mkdir + name\".\n",
    "\n",
    "**************************\n"
   ]
  },
  {
   "cell_type": "markdown",
   "metadata": {},
   "source": [
    "Task 02 - Navigate to the data/timestamps directory. Use the date command to output the current date and time, appending the output to a file named now.txt. Make sure to use the >> operator to append (not overwrite) the file. Repeat this step ten times, then use the more command to verify that now.txt has the expected content.\n",
    "\n",
    "- I created a file called now.txt, usyng the date comand, the date and time was printed. I used operator >> not to overwrite  - \" date +\"%Y%m%d_%H%M%S\" >> now.txt \"\n",
    "\n",
    "**************************"
   ]
  },
  {
   "cell_type": "markdown",
   "metadata": {},
   "source": [
    "Task 03"
   ]
  },
  {
   "cell_type": "markdown",
   "metadata": {},
   "source": [
    "Task 04"
   ]
  },
  {
   "cell_type": "markdown",
   "metadata": {},
   "source": [
    "task 05"
   ]
  },
  {
   "cell_type": "markdown",
   "metadata": {},
   "source": [
    "Task 06"
   ]
  },
  {
   "cell_type": "markdown",
   "metadata": {},
   "source": [
    "Task 07"
   ]
  },
  {
   "cell_type": "markdown",
   "metadata": {},
   "source": []
  },
  {
   "cell_type": "markdown",
   "metadata": {},
   "source": [
    "# End"
   ]
  }
 ],
 "metadata": {
  "kernelspec": {
   "display_name": "Python 3",
   "language": "python",
   "name": "python3"
  },
  "language_info": {
   "codemirror_mode": {
    "name": "ipython",
    "version": 3
   },
   "file_extension": ".py",
   "mimetype": "text/x-python",
   "name": "python",
   "nbconvert_exporter": "python",
   "pygments_lexer": "ipython3",
   "version": "3.12.1"
  }
 },
 "nbformat": 4,
 "nbformat_minor": 2
}
