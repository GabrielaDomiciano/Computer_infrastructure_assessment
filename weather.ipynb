{
 "cells": [
  {
   "cell_type": "markdown",
   "metadata": {},
   "source": [
    "Create a notebook called weather.ipynb at the root of your repository.\n",
    " In this notebook, write a brief report explaining how you completed Tasks 1 to 7. \n",
    " Provide short descriptions of the commands used in each task and explain their role in completing the tasks."
   ]
  },
  {
   "cell_type": "markdown",
   "metadata": {},
   "source": [
    "# Wheather Analysis"
   ]
  },
  {
   "cell_type": "code",
   "execution_count": 1,
   "metadata": {},
   "outputs": [],
   "source": [
    "import pandas as pd"
   ]
  },
  {
   "cell_type": "markdown",
   "metadata": {},
   "source": [
    "## Collecting the Data"
   ]
  },
  {
   "cell_type": "markdown",
   "metadata": {},
   "source": [
    "The following code outputs the filename used to store the data file.\n",
    "```bash\n",
    "date +\"%Y%m%d_%H%M%S_athenry.json\n",
    "```\n",
    "\n",
    "The `%Y` is replaced by the four-digit year (e.g. 2024)|"
   ]
  },
  {
   "cell_type": "markdown",
   "metadata": {},
   "source": []
  },
  {
   "cell_type": "markdown",
   "metadata": {},
   "source": [
    "## Analysing the Data"
   ]
  },
  {
   "cell_type": "code",
   "execution_count": 2,
   "metadata": {},
   "outputs": [],
   "source": [
    "## read the Data\n",
    "df = pd.read_json('data/weather/20241119_170405_athenry.json')"
   ]
  },
  {
   "cell_type": "code",
   "execution_count": 3,
   "metadata": {},
   "outputs": [
    {
     "data": {
      "text/html": [
       "<div>\n",
       "<style scoped>\n",
       "    .dataframe tbody tr th:only-of-type {\n",
       "        vertical-align: middle;\n",
       "    }\n",
       "\n",
       "    .dataframe tbody tr th {\n",
       "        vertical-align: top;\n",
       "    }\n",
       "\n",
       "    .dataframe thead th {\n",
       "        text-align: right;\n",
       "    }\n",
       "</style>\n",
       "<table border=\"1\" class=\"dataframe\">\n",
       "  <thead>\n",
       "    <tr style=\"text-align: right;\">\n",
       "      <th></th>\n",
       "      <th>name</th>\n",
       "      <th>temperature</th>\n",
       "      <th>symbol</th>\n",
       "      <th>weatherDescription</th>\n",
       "      <th>text</th>\n",
       "      <th>windSpeed</th>\n",
       "      <th>windGust</th>\n",
       "      <th>cardinalWindDirection</th>\n",
       "      <th>windDirection</th>\n",
       "      <th>humidity</th>\n",
       "      <th>rainfall</th>\n",
       "      <th>pressure</th>\n",
       "      <th>dayName</th>\n",
       "      <th>date</th>\n",
       "      <th>reportTime</th>\n",
       "    </tr>\n",
       "  </thead>\n",
       "  <tbody>\n",
       "    <tr>\n",
       "      <th>0</th>\n",
       "      <td>Athenry</td>\n",
       "      <td>5</td>\n",
       "      <td>46n</td>\n",
       "      <td>Light rain</td>\n",
       "      <td>\"Moderate Drizzle \"</td>\n",
       "      <td>13</td>\n",
       "      <td>-</td>\n",
       "      <td>E</td>\n",
       "      <td>90</td>\n",
       "      <td>97</td>\n",
       "      <td>0.40</td>\n",
       "      <td>999</td>\n",
       "      <td>Tuesday</td>\n",
       "      <td>2024-11-19</td>\n",
       "      <td>00:00</td>\n",
       "    </tr>\n",
       "    <tr>\n",
       "      <th>1</th>\n",
       "      <td>Athenry</td>\n",
       "      <td>4</td>\n",
       "      <td>05n</td>\n",
       "      <td>Rain showers</td>\n",
       "      <td>\"Rain shower\"</td>\n",
       "      <td>19</td>\n",
       "      <td>-</td>\n",
       "      <td>E</td>\n",
       "      <td>90</td>\n",
       "      <td>96</td>\n",
       "      <td>0.50</td>\n",
       "      <td>999</td>\n",
       "      <td>Tuesday</td>\n",
       "      <td>2024-11-19</td>\n",
       "      <td>01:00</td>\n",
       "    </tr>\n",
       "    <tr>\n",
       "      <th>2</th>\n",
       "      <td>Athenry</td>\n",
       "      <td>4</td>\n",
       "      <td>46n</td>\n",
       "      <td>Light rain</td>\n",
       "      <td>\"Moderate Drizzle \"</td>\n",
       "      <td>15</td>\n",
       "      <td>-</td>\n",
       "      <td>E</td>\n",
       "      <td>90</td>\n",
       "      <td>97</td>\n",
       "      <td>0.50</td>\n",
       "      <td>999</td>\n",
       "      <td>Tuesday</td>\n",
       "      <td>2024-11-19</td>\n",
       "      <td>02:00</td>\n",
       "    </tr>\n",
       "    <tr>\n",
       "      <th>3</th>\n",
       "      <td>Athenry</td>\n",
       "      <td>3</td>\n",
       "      <td>46n</td>\n",
       "      <td>Light rain</td>\n",
       "      <td>\"Light rain \"</td>\n",
       "      <td>13</td>\n",
       "      <td>-</td>\n",
       "      <td>NE</td>\n",
       "      <td>45</td>\n",
       "      <td>96</td>\n",
       "      <td>1.00</td>\n",
       "      <td>1000</td>\n",
       "      <td>Tuesday</td>\n",
       "      <td>2024-11-19</td>\n",
       "      <td>03:00</td>\n",
       "    </tr>\n",
       "    <tr>\n",
       "      <th>4</th>\n",
       "      <td>Athenry</td>\n",
       "      <td>2</td>\n",
       "      <td></td>\n",
       "      <td>N/A</td>\n",
       "      <td></td>\n",
       "      <td>11</td>\n",
       "      <td>-</td>\n",
       "      <td>N</td>\n",
       "      <td>0</td>\n",
       "      <td>95</td>\n",
       "      <td>0.01</td>\n",
       "      <td>1000</td>\n",
       "      <td>Tuesday</td>\n",
       "      <td>2024-11-19</td>\n",
       "      <td>04:00</td>\n",
       "    </tr>\n",
       "  </tbody>\n",
       "</table>\n",
       "</div>"
      ],
      "text/plain": [
       "      name  temperature symbol weatherDescription                 text  \\\n",
       "0  Athenry            5    46n        Light rain   \"Moderate Drizzle \"   \n",
       "1  Athenry            4    05n       Rain showers        \"Rain shower\"   \n",
       "2  Athenry            4    46n        Light rain   \"Moderate Drizzle \"   \n",
       "3  Athenry            3    46n        Light rain         \"Light rain \"   \n",
       "4  Athenry            2                       N/A                        \n",
       "\n",
       "   windSpeed windGust cardinalWindDirection  windDirection  humidity  \\\n",
       "0         13        -                     E             90        97   \n",
       "1         19        -                     E             90        96   \n",
       "2         15        -                     E             90        97   \n",
       "3         13        -                    NE             45        96   \n",
       "4         11        -                     N              0        95   \n",
       "\n",
       "   rainfall  pressure  dayName       date reportTime  \n",
       "0      0.40       999  Tuesday 2024-11-19      00:00  \n",
       "1      0.50       999  Tuesday 2024-11-19      01:00  \n",
       "2      0.50       999  Tuesday 2024-11-19      02:00  \n",
       "3      1.00      1000  Tuesday 2024-11-19      03:00  \n",
       "4      0.01      1000  Tuesday 2024-11-19      04:00  "
      ]
     },
     "execution_count": 3,
     "metadata": {},
     "output_type": "execute_result"
    }
   ],
   "source": [
    "## Show\n",
    "df.head()"
   ]
  },
  {
   "cell_type": "markdown",
   "metadata": {},
   "source": [
    "## Weather Data Analysis Notebook\n",
    "\n",
    "This notebook documents the steps completed over the weeks to accomplish Tasks 1 through 7. The goal is to provide a clear summary of the progress and tools used in each task, serving as a reference for the weather data analysis project.\n",
    "\n",
    "Below, each Task will be briefly explained, with a description of the commands and methods applied to achieve its objectives.\n",
    "\n",
    "### Task Descriptions\n",
    "\n",
    "##### Task 01 - Creating Directories   \n",
    "Using the command line, I created a `data` directory at the root of the repository. Inside `data`, I added two subdirectories: `timestamps` and `weather`. First, I verified my location with `ls`, navigated to the parent directory using `cd ..`, and created the folders using `mkdir`.\n",
    "\n",
    "##### Task 02 - Recording Timestamps  \n",
    "\n",
    "I navigated to the `data/timestamps` directory and created a file named `now.txt`. Using the `date` command, I appended the current date and time to the file with the `>>` operator to ensure the content wasn’t overwritten. The command used was:  \n",
    "`date +\"%Y%m%d_%H%M%S\" >> now.txt`  \n",
    "I repeated this step ten times and verified the content of `now.txt` using the `more` command.\n",
    "\n",
    "\n",
    "##### Task 03 - Formatting Timestamps\n",
    "I used the `date` command to format the current date and time in different ways and appended the results to `formatted.txt` without overwriting it. Then, I checked the file to ensure the dates were correctly added.\n",
    "1. **`20241119_211053`**: `YYYYmmdd_HHMMSS`  \n",
    "2. **`19-Nov-2024 21:21:47`**: `dd-MMM-yyyy HH:mm:ss`  \n",
    "3. **`11/19/2024 09:22:08 PM`**: `MM/dd/yyyy hh:mm:ss AM/PM`  \n",
    "4. **`46 2024`**: `WW yyyy` (Week number and year)\n",
    "\n",
    "\n",
    "\n",
    "##### Task 04 - Creating a File with a Timestamped Name\n",
    "I used the `touch` command with the `date` command embedded in backticks to create an empty file. The file name follows the format `YYYYmmdd_HHMMSS.txt`, based on the current date and time. The command I ran was: touch `date +\"%Y%m%d_%H%M%S\"`.txt - file name 20241106_191122.txt.\n",
    "\n",
    "\n",
    "#### Task 5 - Download Today's Weather Data\n",
    "I navigated to the `data/weather` directory and used the `wget` command to download the latest weather data for the Athenry weather station from Met Eireann. I used the `-O` option to save the data as `weather.json`. The data was retrieved from the following URL:https://prodapi.metweb.ie/observations/athenry/today\n",
    "\n",
    "\n",
    "#### Task 6 - Timestamp the Data\n",
    "I modified the previous command to save the downloaded weather data with a timestamped filename in the format `YYYYmmdd_HHMMSS_athenry.json`. To do this, I embedded the `date` command within the `wget` command to dynamically generate the filename based on the current date and time.\n",
    "\n",
    "\n",
    "#### Task 7 - Write the Script\n",
    "I created a bash script called `weather.sh` that automates the process of downloading weather data for Athenry. Here's what the script does:\n",
    "\n",
    "1. **Prints the current date and time** using `date`.\n",
    "2. **Displays a message** saying \"downloading weather data\".\n",
    "3. **Downloads the weather data** using `wget`, saving the file in the `data/weather` directory with a timestamped filename in the format `YYYYmmdd_HHMMSS_athenry.json`.\n",
    "4. **Prints a message** confirming that the weather data was downloaded.\n",
    "5. **Prints the current date and time again** after the download is complete.\n",
    "\n",
    "\n",
    "#### Task 8 - Notebook called weather.ipynb\n",
    "The tasks 01 to 07 were completed by utilizing a combination of bash commands like cd, wget, date, and bash scripting. In the file weather.ipynb you can find a brief report explaining how all the tasks was  completed.\n"
   ]
  },
  {
   "cell_type": "markdown",
   "metadata": {},
   "source": [
    "************************************"
   ]
  },
  {
   "cell_type": "markdown",
   "metadata": {},
   "source": [
    "# End"
   ]
  }
 ],
 "metadata": {
  "kernelspec": {
   "display_name": "Python 3",
   "language": "python",
   "name": "python3"
  },
  "language_info": {
   "codemirror_mode": {
    "name": "ipython",
    "version": 3
   },
   "file_extension": ".py",
   "mimetype": "text/x-python",
   "name": "python",
   "nbconvert_exporter": "python",
   "pygments_lexer": "ipython3",
   "version": "3.12.1"
  }
 },
 "nbformat": 4,
 "nbformat_minor": 2
}
