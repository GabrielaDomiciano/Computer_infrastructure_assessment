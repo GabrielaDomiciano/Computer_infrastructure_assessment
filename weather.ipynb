{
 "cells": [
  {
   "cell_type": "markdown",
   "metadata": {},
   "source": [
    "# <center>***Exploratory Analysis of Today's Weather Athenry***<center>\n",
    "\n",
    "\n",
    "*********************************\n",
    "\n",
    "\n",
    "![WEATHER](https://news.lk/media/k2/items/cache/1ae234329621819d5d02e7b6f1f5eb14_XL.jpg)"
   ]
  },
  {
   "cell_type": "markdown",
   "metadata": {},
   "source": [
    "##### Author: Gabriela Domiciano Avellar\n",
    "##### Project: Computer Infrastructure \n",
    "\n"
   ]
  },
  {
   "cell_type": "markdown",
   "metadata": {},
   "source": [
    "\n",
    "This Notebook demonstrates using command-line tools, scripting, and automation to manage and process data. The tasks involved creating directory structures, collecting and timestamping weather data from Today's Weather Athenry(https://data.gov.ie/dataset/todays-weather-athenry), and automating the process using Bash scripts.\n",
    "\n",
    "The final step integrated GitHub Actions to schedule daily weather data collection and push updates to a GitHub repository.\n",
    "\n",
    "******************************\n"
   ]
  },
  {
   "cell_type": "markdown",
   "metadata": {},
   "source": [
    "## Weather Data Analysis Notebook\n",
    "\n",
    "This notebook documents the steps completed over the weeks to accomplish Tasks 1 through 7. The goal is to provide a clear summary of the progress and tools used in each task, serving as a reference for the weather data analysis project.\n",
    "\n",
    "Below, each task is briefly explained, with a description of the commands and methods applied to achieve its objectives.\n",
    "\n",
    "#### Task 1: Creating Directories\n",
    "- Using the command line, I created a `data` directory at the root of the repository. Inside `data`, I added two subdirectories: `timestamps` and `weather`.\n",
    "- Verified my location with `ls`, navigated to the parent directory using `cd ..`, and created the folders using `mkdir`.\n",
    "\n",
    "#### Task 2: Recording Timestamps\n",
    "- Navigated to the `data/timestamps` directory and created a file named `now.txt`.\n",
    "- Used the `date` command to append the current date and time to the file without overwriting it. The command used:  \n",
    "  `date +\"%Y%m%d_%H%M%S\" >> now.txt`  \n",
    "- Repeated this step more times and verified the content using the `more` command.\n",
    "\n",
    "#### Task 3: Formatting Timestamps\n",
    "- Used the `date` command to format the current date and time in different styles and appended the results to `formatted.txt`. The formats used include:\n",
    "  1. `20241119_211053`: `YYYYmmdd_HHMMSS`\n",
    "  2. `19-Nov-2024 21:21:47`: `dd-MMM-yyyy HH:mm:ss`\n",
    "  3. `11/19/2024 09:22:08 PM`: `MM/dd/yyyy hh:mm:ss AM/PM`\n",
    "  4. `46 2024`: `WW yyyy` (Week number and year)\n",
    "\n",
    "#### Task 4: Creating a File with a Timestamped Name\n",
    "- Created an empty file using the `touch` command with the `date` command embedded to generate a timestamped filename.\n",
    "- Example command:  \n",
    "  ```bash\n",
    "  touch `date +\"%Y%m%d_%H%M%S\"`.txt.\n",
    "\n",
    "#### Task 5 - Download Today's Weather Data\n",
    "- I navigated to the `data/weather` directory and used the `wget` command to download the latest weather data for the Athenry weather station from Met Eireann. I used the `-O` option to save the data as `weather.json`. The data was retrieved from the following URL:https://prodapi.metweb.ie/observations/athenry/today\n",
    "\n",
    "\n",
    "#### Task 6 - Timestamp the Data\n",
    "- I modified the previous command to save the downloaded weather data with a timestamped filename in the format `YYYYmmdd_HHMMSS_athenry.json`. To do this, I embedded the `date` command within the `wget` command to dynamically generate the filename based on the current date and time.\n",
    "\n",
    "\n",
    "#### Task 7 - Write the Script\n",
    "- I created a bash script called `weather.sh` that automates the process of downloading weather data for Athenry. Here's what the script does:\n",
    "\n",
    "1. **Prints the current date and time** using `date`.\n",
    "2. **Displays a message** saying \"downloading weather data\".\n",
    "3. **Downloads the weather data** using `wget`, saving the file in the `data/weather` directory with a timestamped filename in the format `YYYYmmdd_HHMMSS_athenry.json`.\n",
    "4. **Prints a message** confirming that the weather data was downloaded.\n",
    "5. **Prints the current date and time again** after the download is complete.\n",
    "\n",
    "\n",
    "#### Task 8 - Notebook called weather.ipynb\n",
    "- The tasks 01 to 07 were completed by utilizing a combination of bash commands like cd, wget, date, and bash scripting. In the file weather.ipynb you can find a brief report explaining how all the tasks was  completed.\n",
    "\n"
   ]
  },
  {
   "cell_type": "markdown",
   "metadata": {},
   "source": [
    "## Let's have a look in the Dataset - '20241204_101703.json'"
   ]
  },
  {
   "cell_type": "code",
   "execution_count": 87,
   "metadata": {},
   "outputs": [],
   "source": [
    "# Import required packages:\n",
    "import pandas as pd\n",
    "import datetime as dt "
   ]
  },
  {
   "cell_type": "code",
   "execution_count": 88,
   "metadata": {},
   "outputs": [
    {
     "data": {
      "text/html": [
       "<div>\n",
       "<style scoped>\n",
       "    .dataframe tbody tr th:only-of-type {\n",
       "        vertical-align: middle;\n",
       "    }\n",
       "\n",
       "    .dataframe tbody tr th {\n",
       "        vertical-align: top;\n",
       "    }\n",
       "\n",
       "    .dataframe thead th {\n",
       "        text-align: right;\n",
       "    }\n",
       "</style>\n",
       "<table border=\"1\" class=\"dataframe\">\n",
       "  <thead>\n",
       "    <tr style=\"text-align: right;\">\n",
       "      <th></th>\n",
       "      <th>name</th>\n",
       "      <th>temperature</th>\n",
       "      <th>symbol</th>\n",
       "      <th>weatherDescription</th>\n",
       "      <th>text</th>\n",
       "      <th>windSpeed</th>\n",
       "      <th>windGust</th>\n",
       "      <th>cardinalWindDirection</th>\n",
       "      <th>windDirection</th>\n",
       "      <th>humidity</th>\n",
       "      <th>rainfall</th>\n",
       "      <th>pressure</th>\n",
       "      <th>dayName</th>\n",
       "      <th>date</th>\n",
       "      <th>reportTime</th>\n",
       "    </tr>\n",
       "  </thead>\n",
       "  <tbody>\n",
       "    <tr>\n",
       "      <th>0</th>\n",
       "      <td>Athenry</td>\n",
       "      <td>2</td>\n",
       "      <td>15n</td>\n",
       "      <td>Fog / Mist</td>\n",
       "      <td>\"Fog thinning\"</td>\n",
       "      <td>2</td>\n",
       "      <td>-</td>\n",
       "      <td>S</td>\n",
       "      <td>180</td>\n",
       "      <td>98</td>\n",
       "      <td>0</td>\n",
       "      <td>1024</td>\n",
       "      <td>Wednesday</td>\n",
       "      <td>2024-04-12</td>\n",
       "      <td>00:00</td>\n",
       "    </tr>\n",
       "    <tr>\n",
       "      <th>1</th>\n",
       "      <td>Athenry</td>\n",
       "      <td>2</td>\n",
       "      <td>15n</td>\n",
       "      <td>Fog / Mist</td>\n",
       "      <td>\"Fog thickening\"</td>\n",
       "      <td>-</td>\n",
       "      <td>-</td>\n",
       "      <td></td>\n",
       "      <td>0</td>\n",
       "      <td>99</td>\n",
       "      <td>0</td>\n",
       "      <td>1024</td>\n",
       "      <td>Wednesday</td>\n",
       "      <td>2024-04-12</td>\n",
       "      <td>01:00</td>\n",
       "    </tr>\n",
       "    <tr>\n",
       "      <th>2</th>\n",
       "      <td>Athenry</td>\n",
       "      <td>2</td>\n",
       "      <td>15n</td>\n",
       "      <td>Fog / Mist</td>\n",
       "      <td>\"Fog\"</td>\n",
       "      <td>4</td>\n",
       "      <td>-</td>\n",
       "      <td>E</td>\n",
       "      <td>90</td>\n",
       "      <td>99</td>\n",
       "      <td>0</td>\n",
       "      <td>1023</td>\n",
       "      <td>Wednesday</td>\n",
       "      <td>2024-04-12</td>\n",
       "      <td>02:00</td>\n",
       "    </tr>\n",
       "    <tr>\n",
       "      <th>3</th>\n",
       "      <td>Athenry</td>\n",
       "      <td>1</td>\n",
       "      <td>15n</td>\n",
       "      <td>Fog / Mist</td>\n",
       "      <td>\"Fog thinning\"</td>\n",
       "      <td>6</td>\n",
       "      <td>-</td>\n",
       "      <td>E</td>\n",
       "      <td>90</td>\n",
       "      <td>99</td>\n",
       "      <td>0</td>\n",
       "      <td>1023</td>\n",
       "      <td>Wednesday</td>\n",
       "      <td>2024-04-12</td>\n",
       "      <td>03:00</td>\n",
       "    </tr>\n",
       "    <tr>\n",
       "      <th>4</th>\n",
       "      <td>Athenry</td>\n",
       "      <td>1</td>\n",
       "      <td>15n</td>\n",
       "      <td>Fog / Mist</td>\n",
       "      <td>\"Recent Fog\"</td>\n",
       "      <td>4</td>\n",
       "      <td>-</td>\n",
       "      <td>E</td>\n",
       "      <td>90</td>\n",
       "      <td>99</td>\n",
       "      <td>0</td>\n",
       "      <td>1022</td>\n",
       "      <td>Wednesday</td>\n",
       "      <td>2024-04-12</td>\n",
       "      <td>04:00</td>\n",
       "    </tr>\n",
       "  </tbody>\n",
       "</table>\n",
       "</div>"
      ],
      "text/plain": [
       "      name  temperature symbol weatherDescription              text windSpeed  \\\n",
       "0  Athenry            2    15n         Fog / Mist    \"Fog thinning\"         2   \n",
       "1  Athenry            2    15n         Fog / Mist  \"Fog thickening\"         -   \n",
       "2  Athenry            2    15n         Fog / Mist             \"Fog\"         4   \n",
       "3  Athenry            1    15n         Fog / Mist    \"Fog thinning\"         6   \n",
       "4  Athenry            1    15n         Fog / Mist      \"Recent Fog\"         4   \n",
       "\n",
       "  windGust cardinalWindDirection  windDirection  humidity  rainfall  pressure  \\\n",
       "0        -                     S            180        98         0      1024   \n",
       "1        -                                    0        99         0      1024   \n",
       "2        -                     E             90        99         0      1023   \n",
       "3        -                     E             90        99         0      1023   \n",
       "4        -                     E             90        99         0      1022   \n",
       "\n",
       "     dayName       date reportTime  \n",
       "0  Wednesday 2024-04-12      00:00  \n",
       "1  Wednesday 2024-04-12      01:00  \n",
       "2  Wednesday 2024-04-12      02:00  \n",
       "3  Wednesday 2024-04-12      03:00  \n",
       "4  Wednesday 2024-04-12      04:00  "
      ]
     },
     "execution_count": 88,
     "metadata": {},
     "output_type": "execute_result"
    }
   ],
   "source": [
    "# Read the Data Collected 19 November 20124\n",
    "weather_df = pd.read_json('data/weather/20241204_101703.json')\n",
    "weather_df.head()"
   ]
  },
  {
   "cell_type": "code",
   "execution_count": 89,
   "metadata": {},
   "outputs": [
    {
     "name": "stdout",
     "output_type": "stream",
     "text": [
      "(11, 15)\n"
     ]
    }
   ],
   "source": [
    "# Print the shape, number of rows and columns in the DataFrame.\n",
    "print(weather_df.shape)"
   ]
  },
  {
   "cell_type": "code",
   "execution_count": 90,
   "metadata": {},
   "outputs": [
    {
     "name": "stdout",
     "output_type": "stream",
     "text": [
      "name                     False\n",
      "temperature              False\n",
      "symbol                   False\n",
      "weatherDescription       False\n",
      "text                     False\n",
      "windSpeed                False\n",
      "windGust                 False\n",
      "cardinalWindDirection    False\n",
      "windDirection            False\n",
      "humidity                 False\n",
      "rainfall                 False\n",
      "pressure                 False\n",
      "dayName                  False\n",
      "date                     False\n",
      "reportTime               False\n",
      "dtype: bool\n"
     ]
    }
   ],
   "source": [
    "# Checks for missing values ​​in any column of DataFrame 'iris_df'\n",
    "missing_values = weather_df.isna().any()\n",
    "print(missing_values)"
   ]
  },
  {
   "cell_type": "code",
   "execution_count": 91,
   "metadata": {},
   "outputs": [
    {
     "name": "stdout",
     "output_type": "stream",
     "text": [
      "    temperature windSpeed  humidity  rainfall\n",
      "0             2         2        98         0\n",
      "1             2         -        99         0\n",
      "2             2         4        99         0\n",
      "3             1         6        99         0\n",
      "4             1         4        99         0\n",
      "5             1         -        99         0\n",
      "6             2         4        99         0\n",
      "7             3         7        99         0\n",
      "8             5         7        96         0\n",
      "9             7        17        91         0\n",
      "10            9        15        93         0\n"
     ]
    }
   ],
   "source": [
    "weather_temperature = weather_df[['temperature', 'windSpeed', 'humidity', 'rainfall']]\n",
    "print(weather_temperature)"
   ]
  },
  {
   "cell_type": "code",
   "execution_count": 92,
   "metadata": {},
   "outputs": [
    {
     "name": "stdout",
     "output_type": "stream",
     "text": [
      "0     Fog / Mist\n",
      "1     Fog / Mist\n",
      "2     Fog / Mist\n",
      "3     Fog / Mist\n",
      "4     Fog / Mist\n",
      "5     Fog / Mist\n",
      "6     Fog / Mist\n",
      "7     Fog / Mist\n",
      "8     Fog / Mist\n",
      "9         Cloudy\n",
      "10        Cloudy\n",
      "Name: weatherDescription, dtype: object\n"
     ]
    }
   ],
   "source": [
    "weatherdesc_temperature = weather_df['weatherDescription']\n",
    "print(weatherdesc_temperature)"
   ]
  },
  {
   "cell_type": "markdown",
   "metadata": {},
   "source": [
    "This is a weather dataset for Athenry, dated 04-12-2024, contains information such as the temperature, which varies between 1°C and 9°C, and the weather is described as Fog/Mist most part of the day and Cloudy. The wind on this day varies between 2 and 15 km/h. The humidity is high, ranging from 91% to 99%. There is no chance of rain."
   ]
  },
  {
   "cell_type": "code",
   "execution_count": 93,
   "metadata": {},
   "outputs": [
    {
     "name": "stdout",
     "output_type": "stream",
     "text": [
      "name                             object\n",
      "temperature                       int64\n",
      "symbol                           object\n",
      "weatherDescription               object\n",
      "text                             object\n",
      "windSpeed                        object\n",
      "windGust                         object\n",
      "cardinalWindDirection            object\n",
      "windDirection                     int64\n",
      "humidity                          int64\n",
      "rainfall                          int64\n",
      "pressure                          int64\n",
      "dayName                          object\n",
      "date                     datetime64[ns]\n",
      "reportTime                       object\n",
      "dtype: object\n"
     ]
    }
   ],
   "source": [
    "# Inspect types.\n",
    "type = weather_df.dtypes\n",
    "print(type)"
   ]
  },
  {
   "cell_type": "code",
   "execution_count": 94,
   "metadata": {},
   "outputs": [],
   "source": [
    "# Calculate descriptive statistics, and saves it to a CSV file called 'summary.csv'\n",
    "file_path = 'data/summary.csv'\n",
    "weather_df.describe().T.to_csv(file_path)\n"
   ]
  },
  {
   "cell_type": "markdown",
   "metadata": {},
   "source": [
    "#### Weather Summary\n",
    "\n",
    "- **Temperature**: Average of **2.91°C** (min: 1.0, max: 9.0).  \n",
    "- **Wind Speed**: Average of **7.0 km/h** (min: 0, max: 17.0).  \n",
    "- **Wind Direction**: Predominantly **E/SE**, with some variation.  \n",
    "- **Humidity**: Very high, average of **97.36%** (min: 91%, max: 99%).  \n",
    "- **Rainfall**: None recorded (0.0 mm throughout the dataset).  \n",
    "- **Pressure**: Average of **1021.73 hPa** (min: 1016, max: 1024).  \n",
    "\n",
    "The summary shows a calm, foggy morning and a dry and cloudy day.\n"
   ]
  },
  {
   "cell_type": "markdown",
   "metadata": {},
   "source": [
    "## Automating Weather Data Collection with GitHub Actions\n",
    "\n",
    "I automated the `weather.sh` script to run daily and push new weather data to my GitHub repository using GitHub Actions. Below is a summary of the steps I completed:\n",
    "\n",
    "### Setting Up the GitHub Actions Workflow\n",
    "- I created a `.github/workflows/` directory in my repository and added a file named `weather-data.yml`, using the mkdir command.\n",
    "\n",
    "### Scheduling the Workflow\n",
    "- Using the `schedule` event with a `cron` expression, I configured the workflow to run daily at 10 AM.\n",
    "\n",
    "### Specifying the Environment\n",
    "- I used a Linux virtual machine as the runtime environment for the workflow.\n",
    "\n",
    "### Cloning the Repository\n",
    "- The workflow includes a step to clone the repository so that it has access to the `weather.sh` script and necessary files.\n",
    "\n",
    "### Executing the Script\n",
    "- I added a step to execute the `weather.sh` script, which downloads and saves the latest weather data for Athenry.\n",
    "\n",
    "### Committing and Pushing Changes\n",
    "- The workflow is configured to commit the new weather data with a timestamped filename and push the changes back to the repository automatically.\n",
    "\n",
    "### Testing the Workflow\n",
    "- After committing and pushing the workflow file to the repository, I tested it using the `workflow_dispatch` event.\n",
    "- I verified the logs in the Actions tab to ensure the script executed successfully, and the new weather data was correctly committed to the repository.\n",
    "\n",
    "This automation ensures the weather data is collected daily without manual intervention.\n"
   ]
  },
  {
   "cell_type": "markdown",
   "metadata": {},
   "source": [
    "************************************"
   ]
  },
  {
   "cell_type": "markdown",
   "metadata": {},
   "source": [
    "# End"
   ]
  }
 ],
 "metadata": {
  "kernelspec": {
   "display_name": "Python 3",
   "language": "python",
   "name": "python3"
  },
  "language_info": {
   "codemirror_mode": {
    "name": "ipython",
    "version": 3
   },
   "file_extension": ".py",
   "mimetype": "text/x-python",
   "name": "python",
   "nbconvert_exporter": "python",
   "pygments_lexer": "ipython3",
   "version": "3.12.1"
  }
 },
 "nbformat": 4,
 "nbformat_minor": 2
}
