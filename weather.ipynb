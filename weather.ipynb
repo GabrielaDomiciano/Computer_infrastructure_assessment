{
 "cells": [
  {
   "cell_type": "markdown",
   "metadata": {},
   "source": [
    "Create a notebook called weather.ipynb at the root of your repository.\n",
    " In this notebook, write a brief report explaining how you completed Tasks 1 to 7. \n",
    " Provide short descriptions of the commands used in each task and explain their role in completing the tasks."
   ]
  },
  {
   "cell_type": "markdown",
   "metadata": {},
   "source": [
    "Task 01 - Using the command line, create a directory (that is, a folder) named data at the root of your repository. Inside data, create two subdirectories: timestamps and weather\n",
    "\n",
    "\n",
    "- Using a terminal, first I checked the folder that I was using \"ls\", then I changed the directory using \"cd..\" to move to the parent folder. To create timestamps subdirectories and weather folders, I used \"mkdir + name\".\n",
    "\n",
    "**************************\n"
   ]
  },
  {
   "cell_type": "markdown",
   "metadata": {},
   "source": [
    "Task 02 - Navigate to the data/timestamps directory. Use the date command to output the current date and time, appending the output to a file named now.txt. Make sure to use the >> operator to append (not overwrite) the file. Repeat this step ten times, then use the more command to verify that now.txt has the expected content.\n",
    "\n",
    "- I created a file called now.txt, usyng the date comand, the date and time was printed. I used operator >> not to overwrite  - \" date +\"%Y%m%d_%H%M%S\" >> now.txt \"\n",
    "\n",
    "**************************"
   ]
  },
  {
   "cell_type": "markdown",
   "metadata": {},
   "source": [
    "Task 03"
   ]
  },
  {
   "cell_type": "markdown",
   "metadata": {},
   "source": [
    "Task 04"
   ]
  },
  {
   "cell_type": "markdown",
   "metadata": {},
   "source": [
    "task 05"
   ]
  },
  {
   "cell_type": "markdown",
   "metadata": {},
   "source": [
    "Task 06"
   ]
  },
  {
   "cell_type": "markdown",
   "metadata": {},
   "source": [
    "Task 07"
   ]
  }
 ],
 "metadata": {
  "language_info": {
   "name": "python"
  }
 },
 "nbformat": 4,
 "nbformat_minor": 2
}
